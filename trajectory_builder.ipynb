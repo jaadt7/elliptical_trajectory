{
 "cells": [
  {
   "cell_type": "code",
   "execution_count": null,
   "metadata": {},
   "outputs": [],
   "source": [
    "import numpy as np\n",
    "import matplotlib.pyplot as plt\n",
    "\n",
    "import matplotlib.animation as animation\n",
    "from IPython.display import HTML"
   ]
  },
  {
   "cell_type": "code",
   "execution_count": null,
   "metadata": {},
   "outputs": [],
   "source": [
    "def h(w,t,t_mid):\n",
    "    delta_t = t - t_mid\n",
    "    return np.pi/(1.0 + np.exp(delta_t/w))\n",
    "\n",
    "def var_calc(x_1,x_2,x_3,y_1,y_2,y_3):\n",
    "    A= np.array([[-1,0,1],[1,0,1],[0,-1,1]])\n",
    "    b = np.array([x_1,\n",
    "                x_2,\n",
    "                x_3])\n",
    "    x = np.linalg.solve(A,b)\n",
    "    rx_cos = x[0]\n",
    "    ry_sin = x[1]\n",
    "    x_0 = x[2]\n",
    "\n",
    "    b = np.array([y_1,\n",
    "                y_2,\n",
    "                y_3])\n",
    "    x = np.linalg.solve(A,b)\n",
    "    rx_sin = x[0]\n",
    "    ry_cos = x[1]\n",
    "    y_0 = x[2]\n",
    "\n",
    "    return x_0,y_0,rx_cos,ry_sin,rx_sin,ry_cos\n",
    "\n"
   ]
  }
 ],
 "metadata": {
  "language_info": {
   "name": "python"
  }
 },
 "nbformat": 4,
 "nbformat_minor": 2
}
