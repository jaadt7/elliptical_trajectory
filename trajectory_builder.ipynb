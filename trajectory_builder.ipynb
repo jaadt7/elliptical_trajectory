{
 "cells": [
  {
   "cell_type": "code",
   "execution_count": null,
   "metadata": {},
   "outputs": [],
   "source": [
    "import numpy as np\n",
    "import matplotlib.pyplot as plt\n",
    "\n",
    "import matplotlib.animation as animation\n",
    "from IPython.display import HTML"
   ]
  },
  {
   "cell_type": "code",
   "execution_count": null,
   "metadata": {},
   "outputs": [],
   "source": [
    "def t_dist(tau,t,t_mid):\n",
    "    delta_t = t - t_mid\n",
    "    return np.pi/(1.0 + np.exp(delta_t/tau))\n",
    "\n",
    "def var_calc(t9,nn):\n",
    "    A= np.array([[-1,0,1],[1,0,1],[0,-1,1]])\n",
    "    \n",
    "    x = np.linalg.solve(A,t9)\n",
    "    rx_cos = x[0]\n",
    "    ry_sin = x[1]\n",
    "    x_0 = x[2]\n",
    "\n",
    "    x = np.linalg.solve(A,nn)\n",
    "    rx_sin = x[0]\n",
    "    ry_cos = x[1]\n",
    "    y_0 = x[2]\n",
    "\n",
    "    return x_0,y_0,rx_cos,ry_sin,rx_sin,ry_cos\n",
    "\n",
    "def traj_builder(t,t9,nn,param_list,traj = 'pulse',time_func = t_dist()):\n",
    "    t_max = np.max(t)\n",
    "    [x_0,y_0,rx_cos,ry_sin,rx_sin,ry_cos] = var_calc(t9,nn)\n",
    "    if traj == 'pulse':\n",
    "        time = np.linspace(t[0],t[1])\n",
    "        t_mid = t_max/2 \n",
    "        theta = t_dist(param_list['char_time'],time,t_mid)\n",
    "        x_t = rx_cos*np.cos(theta) - ry_sin*np.sin(theta) + x_0\n",
    "        y_t = rx_sin*np.cos(theta) - ry_cos*np.sin(theta) + y_0\n",
    "    \n",
    "    elif traj == 'pulse_return':\n",
    "        t_pulse = param_list['pulse_frac']*t_max\n",
    "        t_mid = t_pulse/2\n",
    "\n",
    "        time = np.linspace(t[0],t_pulse)\n",
    "        theta = t_dist(param_list['char_time'],time,t_mid)\n",
    "\n",
    "        x_t = rx_cos*np.cos(theta) - ry_sin*np.sin(theta) + x_0\n",
    "        y_t = rx_sin*np.cos(theta) - ry_cos*np.sin(theta) + y_0\n",
    "\n",
    "        slope = (nn[1] - nn[0])/(t9[1] - t9[0])\n",
    "        inter = nn[1] - slope*t9[1]\n",
    "        \n",
    "        t_return = np.linspace(t_pulse + t_max/1e+10, t[1])\n",
    "        time = np.append(time,t_return)\n",
    "        x_t = np.append(x_t,np.linspace(t[2],t[1]))\n",
    "        y_t = np.append(y_t,slope*np.linspace(t[2],t[1]) + inter)\n",
    "\n",
    "    elif traj == 'pulse_return_shift':\n",
    "        t_loop = t[1]/param_list['num_loop']\n",
    "\n",
    "        t_pulse = param_list['pulse_frac']*t_loop\n",
    "        t_mid = t_pulse/2\n",
    "        \n",
    "\n",
    "    \n",
    "    return"
   ]
  }
 ],
 "metadata": {
  "language_info": {
   "name": "python"
  }
 },
 "nbformat": 4,
 "nbformat_minor": 2
}
