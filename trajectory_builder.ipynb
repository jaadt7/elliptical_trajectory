{
 "cells": [
  {
   "cell_type": "markdown",
   "metadata": {},
   "source": [
    "This notebook parameterizes the $n_{n}$ vs $T_{9}$ (Neutron Number Density vs Temperature in the billions of Kelvins) in a pulse or series of pulses in a TP-AGB star as connected partial ellipses. The parametrization carried out is on a log-lin scale. The user supplies $n_{n}$ and $T_{9}$ at three points in a pulse. The method then splits the coordinate pair and fits 2 sets of 3 equations with 3 unknowns for the parameters of the ellipse to be applied in the following parametrization\n",
    "\n",
    "$\n",
    "\\begin{cases}\n",
    "x(t) &= a_{x}cos(\\theta(t)) - b_{x}sin(\\theta(t)) + x_{0}\\\\\n",
    "y(t) &= a_{y}cos(\\theta(t)) - b_{y}sin(\\theta(t)) + y_{0}\n",
    "\\end{cases}\n",
    "$\n",
    "\n",
    "The parameters determined are $a_{x},a_{y},b_{x},b_{y},x_{0},$ and $y_{0}$. The a's and b's are the projections of the semi major and minor axes along an unknown incline while $(x_{0},y_{0})$ is the coordinate pair of the center.  The user supplies the function that computes $\\theta(t)$.  The result can be a single pulse or a series of pulses.  The data are plotted and then saved to files."
   ]
  },
  {
   "cell_type": "markdown",
   "metadata": {},
   "source": [
    "# Preliminaries"
   ]
  },
  {
   "cell_type": "markdown",
   "metadata": {},
   "source": [
    "Begin by installing and importing the necessary packages."
   ]
  },
  {
   "cell_type": "code",
   "execution_count": 1,
   "metadata": {},
   "outputs": [],
   "source": [
    "import sys, subprocess,pkg_resources\n",
    "required = {'numpy','scipy','matplotlib'}\n",
    "installed = {pkg.key for pkg in pkg_resources.working_set}\n",
    "missing = required - installed\n",
    "\n",
    "if missing:\n",
    "    subprocess.check_call([sys.executable,'-m','pip','install','--quiet',*missing])\n",
    "\n",
    "import numpy as np\n",
    "import matplotlib.pyplot as plt\n",
    "from scipy import special"
   ]
  },
  {
   "cell_type": "markdown",
   "metadata": {},
   "source": [
    "Define a funtion to calculate the variables required for the calculation."
   ]
  },
  {
   "cell_type": "code",
   "execution_count": 2,
   "metadata": {},
   "outputs": [],
   "source": [
    "def var_calc(t9,nn):\n",
    "    A= np.array([[-1,0,1],[1,0,1],[0,-1,1]])\n",
    "    \n",
    "    x = np.linalg.solve(A,t9)\n",
    "    rx_cos = x[0]\n",
    "    ry_sin = x[1]\n",
    "    x_0 = x[2]\n",
    "\n",
    "    x = np.linalg.solve(A,nn)\n",
    "    rx_sin = x[0]\n",
    "    ry_cos = x[1]\n",
    "    y_0 = x[2]\n",
    "\n",
    "    return [x_0,y_0,rx_cos,ry_sin,rx_sin,ry_cos]"
   ]
  },
  {
   "cell_type": "markdown",
   "metadata": {},
   "source": [
    "Define a function to create a pulse."
   ]
  },
  {
   "cell_type": "code",
   "execution_count": 3,
   "metadata": {},
   "outputs": [],
   "source": [
    "def pulse(varia,t,param_list,time_func):\n",
    "    time = np.linspace(t[0],t[1],param_list['pulse_size'])\n",
    "\n",
    "    theta = time_func(time,t[1]/2)\n",
    "\n",
    "    x_t = varia[2]*np.cos(theta) - varia[3]*np.sin(theta) + varia[0]\n",
    "    y_t = varia[4]*np.cos(theta) - varia[5]*np.sin(theta) + varia[1]\n",
    "        \n",
    "    return x_t,y_t,time"
   ]
  },
  {
   "cell_type": "markdown",
   "metadata": {},
   "source": [
    "Define a function for the return pulse."
   ]
  },
  {
   "cell_type": "code",
   "execution_count": 4,
   "metadata": {},
   "outputs": [],
   "source": [
    "def pulse_return(varia,t, param_list, t9,nn, time_func, t9_return):\n",
    "\n",
    "    t_pulse = param_list['pulse_frac']*t[1]\n",
    "    t_return_start = t_pulse*(1 + 1e-3)\n",
    "    \n",
    "    slope = (nn[1] - nn[0])/(t9[1] - t9[0])\n",
    "    inter = nn[1] - slope*t9[1]\n",
    "\n",
    "    x_t,y_t,time = pulse(varia,[t[0],t_pulse],param_list,time_func)\n",
    "\n",
    "    time = np.append(time,np.linspace(t_return_start,t[1],param_list['return_size']))\n",
    "    x_t = np.append(x_t,np.linspace(t9[1],t9_return,param_list['return_size']))\n",
    "    y_t = np.append(y_t,slope*np.linspace(t9[1],t9_return,param_list['return_size']) + inter)\n",
    "    \n",
    "    return x_t,y_t,time"
   ]
  },
  {
   "cell_type": "markdown",
   "metadata": {},
   "source": [
    "Define a function to build the loop return."
   ]
  },
  {
   "cell_type": "code",
   "execution_count": 5,
   "metadata": {},
   "outputs": [],
   "source": [
    "def pulse_return_loop(varia,t,param_list,t9,nn,time_func):\n",
    "\n",
    "    slope_vert = (nn[2] - nn[0])/(t9[2] - t9[0])\n",
    "    slope_hori = (nn[1] - nn[0])/(t9[1] - t9[0])\n",
    "\n",
    "    inter_hori = nn[0] - slope_hori*t9[0]\n",
    "\n",
    "    dist_vert = ((nn[2] - nn[0])**2 + (t9[2] - t9[0])**2)**(1/2)\n",
    "    dist_hori = ((nn[1] - nn[0])**2 + (t9[1] - t9[0])**2)**(1/2)\n",
    "\n",
    "    t_loop = t[1]/param_list['n_loops']\n",
    "    t9_return = t9[0] + param_list['return_scale']*dist_hori/(1 + slope_hori**2)**(1/2)\n",
    "    x_t,y_t,time = pulse_return(varia,[t[0],t_loop],param_list,t9,nn,time_func,t9_return)\n",
    "    \n",
    "\n",
    "    for i in range(1, param_list['n_loops']):\n",
    "        \n",
    "        \n",
    "        t9_1 = t9_return\n",
    "        t9_2 = t9_return + dist_hori/(1 + slope_hori**2)**(1/2)\n",
    "        t9_3 = t9_1 + (1 + param_list['peak_scale'])**(i) * dist_vert/(1 + slope_vert**2)**(1/2)\n",
    "\n",
    "        t9_return = t9_1 + param_list['return_scale']*dist_hori/(1 + slope_hori**2)**(1/2)\n",
    "\n",
    "        nn_1 = slope_hori*t9_1 + inter_hori\n",
    "        nn_2 = slope_hori*t9_2 + inter_hori\n",
    "\n",
    "        \n",
    "        b = nn_1 - slope_vert*t9_1\n",
    "        nn_3 = slope_vert*t9_3 + b\n",
    "\n",
    "        varia = var_calc([t9_1,t9_2,t9_3],[nn_1,nn_2,nn_3])\n",
    "        x_ti,y_ti,time_i = pulse_return(varia,[t[0],t_loop],param_list,[t9_1,t9_2,t9_3],[nn_1,nn_2,nn_3],time_func,t9_return)\n",
    "        \n",
    "        time = np.append(time, i*t_loop + time_i)\n",
    "        x_t = np.append(x_t,x_ti)\n",
    "        y_t = np.append(y_t,y_ti)\n",
    "        \n",
    "    return x_t,y_t,time"
   ]
  },
  {
   "cell_type": "markdown",
   "metadata": {},
   "source": [
    "Define a function to build the trajectory."
   ]
  },
  {
   "cell_type": "code",
   "execution_count": 6,
   "metadata": {},
   "outputs": [],
   "source": [
    "def traj_builder(t, t9, nn, traj, param_list, time_func):\n",
    "    varia = var_calc(t9, nn)\n",
    "    \n",
    "    if traj == 'pulse':\n",
    "        x_t,y_t,time = pulse(varia, t, param_list,time_func)\n",
    "        \n",
    "    elif traj == 'pulse_return':\n",
    "        x_t, y_t,time = pulse_return(varia,t,param_list,t9,nn,time_func,t9[0])\n",
    "\n",
    "    elif traj == 'pulse_return_loop':\n",
    "        x_t,y_t,time = pulse_return_loop(varia,t,param_list,t9,nn,time_func)\n",
    "\n",
    "    return x_t,y_t,time"
   ]
  },
  {
   "cell_type": "markdown",
   "metadata": {},
   "source": [
    "Define a function to set the parameters."
   ]
  },
  {
   "cell_type": "code",
   "execution_count": 7,
   "metadata": {},
   "outputs": [],
   "source": [
    "def param_builder(var_list):\n",
    "    param = {}\n",
    "    for var_name in var_list:\n",
    "        if var_name in globals():\n",
    "            param[var_name] = globals()[var_name]\n",
    "    return param"
   ]
  },
  {
   "cell_type": "markdown",
   "metadata": {},
   "source": [
    "# Build the trajectory"
   ]
  },
  {
   "cell_type": "markdown",
   "metadata": {},
   "source": [
    "First, define the function to compute $\\theta(t)$ for the trajectory.  The function must have the following characteristics:\n",
    "\n",
    "$\n",
    "\\begin{cases}\n",
    "\\theta(t) = \\pi,    &t = t_{start}\\\\\n",
    "\\theta(t) = \\frac{\\pi}{2},  &t = t_{1/2}\\\\\n",
    "\\theta(t) = 0,  &t = t_{final}\n",
    "\\end{cases}\n",
    "$\n",
    "\n",
    "Where $t_{1/2}$ is the midpoint between $t_{start}$ and $t_{final}$\n",
    "\n",
    "The default uses a shifted error function that can be adjusted via the $\\tau$ and $t_{mid}$ parameters to shift the center and how the values of the function go from $\\pi$ to 0. The reason we are sweeping from $\\pi$ to 0 is because we are following the trajectory of a start in the interpulse region of a TP-AGB star. Should we sweep the angle from 0 to $\\pi$, the trajectory will run backwards.\n",
    "\n",
    "The actual function is $\\theta(t, t_{1/2})$, which takes two parameters, namely, $t$ and $t_{1/2}$.  Other data may be bound to the function.  To construct $\\theta(t, t_{1/2}$, first define the full function."
   ]
  },
  {
   "cell_type": "code",
   "execution_count": 8,
   "metadata": {},
   "outputs": [],
   "source": [
    "def theta_tmp(t, t_mid, tau):\n",
    "    delta_t = t - t_mid\n",
    "    return np.pi*(1 - (special.erf(delta_t/tau)/special.erf(t_mid/tau)))/2"
   ]
  },
  {
   "cell_type": "markdown",
   "metadata": {},
   "source": [
    "Now create $\\theta(t, t_{1/2})$ by binding the extra data."
   ]
  },
  {
   "cell_type": "code",
   "execution_count": 9,
   "metadata": {},
   "outputs": [],
   "source": [
    "tau = 1.e12\n",
    "theta = lambda t, t_mid : theta_tmp(t, t_mid, tau)"
   ]
  },
  {
   "cell_type": "markdown",
   "metadata": {},
   "source": [
    "Set the key temperatures (in billions of Kelvin) for the trajectory.  *t9_1* is the start temperature, *t9_2* is the end temperature, and *t9_3* is temperature at the peak neutron density."
   ]
  },
  {
   "cell_type": "code",
   "execution_count": 10,
   "metadata": {},
   "outputs": [],
   "source": [
    "t9_1 = 0.125\n",
    "t9_2 = 0.25\n",
    "t9_3 = 0.3"
   ]
  },
  {
   "cell_type": "markdown",
   "metadata": {},
   "source": [
    "Next, set the neutron number density (in per cc).  *nn_1* is at the start of the trajectory, *nn_2* is at the end of the pulse, and *nn_3* is peak."
   ]
  },
  {
   "cell_type": "code",
   "execution_count": 11,
   "metadata": {},
   "outputs": [],
   "source": [
    "nn_1 = 11\n",
    "nn_2 = 1.e2\n",
    "nn_3 = 1.e9"
   ]
  },
  {
   "cell_type": "markdown",
   "metadata": {},
   "source": [
    "Set the start and end times for the whole trajectory in seconds."
   ]
  },
  {
   "cell_type": "code",
   "execution_count": 12,
   "metadata": {},
   "outputs": [],
   "source": [
    "t_start = 0\n",
    "t_end = 3.15e+12"
   ]
  },
  {
   "cell_type": "markdown",
   "metadata": {},
   "source": [
    "Set the total number of points in the pulse."
   ]
  },
  {
   "cell_type": "code",
   "execution_count": 13,
   "metadata": {},
   "outputs": [],
   "source": [
    "pulse_size = 50"
   ]
  },
  {
   "cell_type": "markdown",
   "metadata": {},
   "source": [
    "Set the data for the return part of the trajectory.  These data are *return_size*, the number of points for the linear return part of the trajectory, and *pulse_frac*, the fraction of the time per cycle allocated for the pulse."
   ]
  },
  {
   "cell_type": "code",
   "execution_count": 14,
   "metadata": {},
   "outputs": [],
   "source": [
    "return_size = 15\n",
    "pulse_frac = 0.95"
   ]
  },
  {
   "cell_type": "markdown",
   "metadata": {},
   "source": [
    "Now set the data for the multiple pulses (loops).  These data are *n_loops*, the number of loops in the trajectory, *return_scale*, how far from *t9_1* the new loop should star, and *peak_scale*, which sets how the peak scales from one pulse to the next."
   ]
  },
  {
   "cell_type": "code",
   "execution_count": 15,
   "metadata": {},
   "outputs": [],
   "source": [
    "n_loops = 35\n",
    "return_scale = 0.01\n",
    "peak_scale = 0"
   ]
  },
  {
   "cell_type": "markdown",
   "metadata": {},
   "source": [
    "Set the trajectory type. *pulse* simply creates the trajectory from A to B,  *pulse_return* creates the trajectory from start to finish and the returns it to the start, while *return_loop* creates a trajectory that loops on itself or loops to a different starting point. "
   ]
  },
  {
   "cell_type": "code",
   "execution_count": 16,
   "metadata": {},
   "outputs": [],
   "source": [
    "traj = 'pulse_return'"
   ]
  },
  {
   "cell_type": "markdown",
   "metadata": {},
   "source": [
    "Now compute the trajectory."
   ]
  },
  {
   "cell_type": "code",
   "execution_count": 17,
   "metadata": {},
   "outputs": [],
   "source": [
    "var_list = ['return_size', 'pulse_frac','tau','pulse_size','n_loops','return_scale','peak_scale']\n",
    "param_list = param_builder(var_list)\n",
    "\n",
    "t = [t_start,t_end]\n",
    "t9 = [t9_1,t9_2,t9_3]\n",
    "nn = [np.log10(nn_1), np.log10(nn_2), np.log10(nn_3)]\n",
    "x_t,y_t,time = traj_builder(t, t9, nn, traj, param_list, theta) \n"
   ]
  },
  {
   "cell_type": "markdown",
   "metadata": {},
   "source": [
    "Plot the trajectory."
   ]
  },
  {
   "cell_type": "code",
   "execution_count": 18,
   "metadata": {},
   "outputs": [
    {
     "data": {
      "text/plain": [
       "Text(0, 0.5, '$n_n$')"
      ]
     },
     "execution_count": 18,
     "metadata": {},
     "output_type": "execute_result"
    },
    {
     "data": {
      "image/png": "[encoded data removed]",
      "text/plain": [
       "<Figure size 640x480 with 1 Axes>"
      ]
     },
     "metadata": {},
     "output_type": "display_data"
    }
   ],
   "source": [
    "plt.plot(x_t, np.power(10, y_t), 'o')\n",
    "\n",
    "plt.yscale('log')\n",
    "plt.xlabel('$T_9$')\n",
    "plt.ylabel('$n_n$')"
   ]
  },
  {
   "cell_type": "markdown",
   "metadata": {},
   "source": [
    "Create a time, temperature (in billions of K), density file.  The default here uses a constant density, but you may change to use your own density profile as desired."
   ]
  },
  {
   "cell_type": "code",
   "execution_count": 19,
   "metadata": {},
   "outputs": [],
   "source": [
    "time_t9_rho_file = 'temp_dens_data.txt'\n",
    "rho_0 = 1.e3\n",
    "\n",
    "rho = rho_0*np.ones(len(time))\n",
    "temp_dens_data = np.column_stack((time,x_t,rho))\n",
    "\n",
    "np.savetxt(time_t9_rho_file,temp_dens_data)"
   ]
  },
  {
   "cell_type": "markdown",
   "metadata": {},
   "source": [
    "Save the trajectory to a file. Set *neutron_mass_frac* to True to convert the neutron number density to a mass fraction.  Otherwise, save the neutron number density. Change out_traj_file to change the name of the trajectory file."
   ]
  },
  {
   "cell_type": "code",
   "execution_count": 20,
   "metadata": {},
   "outputs": [],
   "source": [
    "out_traj_file = 'trajectory.txt'\n",
    "neutron_mass_frac = True\n",
    "\n",
    "if neutron_mass_frac:\n",
    "    X_n = (10**y_t)/(rho*6.0221409e+23)\n",
    "    trajectory_data = np.column_stack((time, x_t, X_n))\n",
    "else:\n",
    "    trajectory_data = np.column_stack((time,x_t,10**y_t))\n",
    "    \n",
    "np.savetxt(out_traj_file, trajectory_data)"
   ]
  },
  {
   "cell_type": "code",
   "execution_count": null,
   "metadata": {},
   "outputs": [],
   "source": []
  }
 ],
 "metadata": {
  "kernelspec": {
   "display_name": "Python 3 (ipykernel)",
   "language": "python",
   "name": "python3"
  },
  "language_info": {
   "codemirror_mode": {
    "name": "ipython",
    "version": 3
   },
   "file_extension": ".py",
   "mimetype": "text/x-python",
   "name": "python",
   "nbconvert_exporter": "python",
   "pygments_lexer": "ipython3",
   "version": "3.11.6"
  }
 },
 "nbformat": 4,
 "nbformat_minor": 4
}
